{
 "cells": [
  {
   "cell_type": "code",
   "execution_count": 54,
   "metadata": {},
   "outputs": [
    {
     "name": "stdout",
     "output_type": "stream",
     "text": [
      "Note: you may need to restart the kernel to use updated packages.Requirement already satisfied: pandas in c:\\users\\yarid\\appdata\\local\\programs\\python\\python310\\lib\\site-packages (1.5.3)\n",
      "Requirement already satisfied: python-dateutil>=2.8.1 in c:\\users\\yarid\\appdata\\local\\programs\\python\\python310\\lib\\site-packages (from pandas) (2.8.2)\n",
      "Requirement already satisfied: pytz>=2020.1 in c:\\users\\yarid\\appdata\\local\\programs\\python\\python310\\lib\\site-packages (from pandas) (2023.3.post1)\n",
      "Requirement already satisfied: numpy>=1.21.0 in c:\\users\\yarid\\appdata\\local\\programs\\python\\python310\\lib\\site-packages (from pandas) (1.24.4)\n",
      "Requirement already satisfied: six>=1.5 in c:\\users\\yarid\\appdata\\local\\programs\\python\\python310\\lib\\site-packages (from python-dateutil>=2.8.1->pandas) (1.16.0)\n",
      "\n"
     ]
    },
    {
     "name": "stderr",
     "output_type": "stream",
     "text": [
      "WARNING: You are using pip version 21.2.3; however, version 25.1 is available.\n",
      "You should consider upgrading via the 'c:\\Users\\Yarid\\AppData\\Local\\Programs\\Python\\Python310\\python.exe -m pip install --upgrade pip' command.\n"
     ]
    },
    {
     "name": "stdout",
     "output_type": "stream",
     "text": [
      "Requirement already satisfied: numpy in c:\\users\\yarid\\appdata\\local\\programs\\python\\python310\\lib\\site-packages (1.24.4)\n",
      "Note: you may need to restart the kernel to use updated packages.\n"
     ]
    },
    {
     "name": "stderr",
     "output_type": "stream",
     "text": [
      "WARNING: You are using pip version 21.2.3; however, version 25.1 is available.\n",
      "You should consider upgrading via the 'c:\\Users\\Yarid\\AppData\\Local\\Programs\\Python\\Python310\\python.exe -m pip install --upgrade pip' command.\n"
     ]
    },
    {
     "name": "stdout",
     "output_type": "stream",
     "text": [
      "Requirement already satisfied: matplotlib in c:\\users\\yarid\\appdata\\local\\programs\\python\\python310\\lib\\site-packages (3.10.1)\n",
      "Requirement already satisfied: packaging>=20.0 in c:\\users\\yarid\\appdata\\local\\programs\\python\\python310\\lib\\site-packages (from matplotlib) (23.2)\n",
      "Requirement already satisfied: pyparsing>=2.3.1 in c:\\users\\yarid\\appdata\\local\\programs\\python\\python310\\lib\\site-packages (from matplotlib) (3.2.3)\n",
      "Requirement already satisfied: cycler>=0.10 in c:\\users\\yarid\\appdata\\local\\programs\\python\\python310\\lib\\site-packages (from matplotlib) (0.12.1)\n",
      "Requirement already satisfied: fonttools>=4.22.0 in c:\\users\\yarid\\appdata\\local\\programs\\python\\python310\\lib\\site-packages (from matplotlib) (4.57.0)\n",
      "Requirement already satisfied: python-dateutil>=2.7 in c:\\users\\yarid\\appdata\\local\\programs\\python\\python310\\lib\\site-packages (from matplotlib) (2.8.2)\n",
      "Requirement already satisfied: numpy>=1.23 in c:\\users\\yarid\\appdata\\local\\programs\\python\\python310\\lib\\site-packages (from matplotlib) (1.24.4)\n",
      "Requirement already satisfied: contourpy>=1.0.1 in c:\\users\\yarid\\appdata\\local\\programs\\python\\python310\\lib\\site-packages (from matplotlib) (1.3.2)\n",
      "Requirement already satisfied: kiwisolver>=1.3.1 in c:\\users\\yarid\\appdata\\local\\programs\\python\\python310\\lib\\site-packages (from matplotlib) (1.4.8)\n",
      "Requirement already satisfied: pillow>=8 in c:\\users\\yarid\\appdata\\local\\programs\\python\\python310\\lib\\site-packages (from matplotlib) (11.2.1)\n",
      "Requirement already satisfied: six>=1.5 in c:\\users\\yarid\\appdata\\local\\programs\\python\\python310\\lib\\site-packages (from python-dateutil>=2.7->matplotlib) (1.16.0)\n",
      "Note: you may need to restart the kernel to use updated packages.\n"
     ]
    },
    {
     "name": "stderr",
     "output_type": "stream",
     "text": [
      "WARNING: You are using pip version 21.2.3; however, version 25.1 is available.\n",
      "You should consider upgrading via the 'c:\\Users\\Yarid\\AppData\\Local\\Programs\\Python\\Python310\\python.exe -m pip install --upgrade pip' command.\n"
     ]
    },
    {
     "name": "stdout",
     "output_type": "stream",
     "text": [
      "Requirement already satisfied: seaborn in c:\\users\\yarid\\appdata\\local\\programs\\python\\python310\\lib\\site-packages (0.13.2)\n",
      "Requirement already satisfied: pandas>=1.2 in c:\\users\\yarid\\appdata\\local\\programs\\python\\python310\\lib\\site-packages (from seaborn) (1.5.3)\n",
      "Requirement already satisfied: numpy!=1.24.0,>=1.20 in c:\\users\\yarid\\appdata\\local\\programs\\python\\python310\\lib\\site-packages (from seaborn) (1.24.4)\n",
      "Requirement already satisfied: matplotlib!=3.6.1,>=3.4 in c:\\users\\yarid\\appdata\\local\\programs\\python\\python310\\lib\\site-packages (from seaborn) (3.10.1)\n",
      "Requirement already satisfied: contourpy>=1.0.1 in c:\\users\\yarid\\appdata\\local\\programs\\python\\python310\\lib\\site-packages (from matplotlib!=3.6.1,>=3.4->seaborn) (1.3.2)\n",
      "Requirement already satisfied: python-dateutil>=2.7 in c:\\users\\yarid\\appdata\\local\\programs\\python\\python310\\lib\\site-packages (from matplotlib!=3.6.1,>=3.4->seaborn) (2.8.2)\n",
      "Requirement already satisfied: fonttools>=4.22.0 in c:\\users\\yarid\\appdata\\local\\programs\\python\\python310\\lib\\site-packages (from matplotlib!=3.6.1,>=3.4->seaborn) (4.57.0)\n",
      "Requirement already satisfied: packaging>=20.0 in c:\\users\\yarid\\appdata\\local\\programs\\python\\python310\\lib\\site-packages (from matplotlib!=3.6.1,>=3.4->seaborn) (23.2)\n",
      "Requirement already satisfied: pyparsing>=2.3.1 in c:\\users\\yarid\\appdata\\local\\programs\\python\\python310\\lib\\site-packages (from matplotlib!=3.6.1,>=3.4->seaborn) (3.2.3)\n",
      "Requirement already satisfied: cycler>=0.10 in c:\\users\\yarid\\appdata\\local\\programs\\python\\python310\\lib\\site-packages (from matplotlib!=3.6.1,>=3.4->seaborn) (0.12.1)\n",
      "Requirement already satisfied: kiwisolver>=1.3.1 in c:\\users\\yarid\\appdata\\local\\programs\\python\\python310\\lib\\site-packages (from matplotlib!=3.6.1,>=3.4->seaborn) (1.4.8)\n",
      "Requirement already satisfied: pillow>=8 in c:\\users\\yarid\\appdata\\local\\programs\\python\\python310\\lib\\site-packages (from matplotlib!=3.6.1,>=3.4->seaborn) (11.2.1)\n",
      "Requirement already satisfied: pytz>=2020.1 in c:\\users\\yarid\\appdata\\local\\programs\\python\\python310\\lib\\site-packages (from pandas>=1.2->seaborn) (2023.3.post1)\n",
      "Requirement already satisfied: six>=1.5 in c:\\users\\yarid\\appdata\\local\\programs\\python\\python310\\lib\\site-packages (from python-dateutil>=2.7->matplotlib!=3.6.1,>=3.4->seaborn) (1.16.0)\n",
      "Note: you may need to restart the kernel to use updated packages.\n"
     ]
    },
    {
     "name": "stderr",
     "output_type": "stream",
     "text": [
      "WARNING: You are using pip version 21.2.3; however, version 25.1 is available.\n",
      "You should consider upgrading via the 'c:\\Users\\Yarid\\AppData\\Local\\Programs\\Python\\Python310\\python.exe -m pip install --upgrade pip' command.\n"
     ]
    },
    {
     "name": "stdout",
     "output_type": "stream",
     "text": [
      "Requirement already satisfied: tqdm in c:\\users\\yarid\\appdata\\local\\programs\\python\\python310\\lib\\site-packages (4.66.1)\n",
      "Requirement already satisfied: colorama in c:\\users\\yarid\\appdata\\local\\programs\\python\\python310\\lib\\site-packages (from tqdm) (0.4.6)\n",
      "Note: you may need to restart the kernel to use updated packages.\n"
     ]
    },
    {
     "name": "stderr",
     "output_type": "stream",
     "text": [
      "WARNING: You are using pip version 21.2.3; however, version 25.1 is available.\n",
      "You should consider upgrading via the 'c:\\Users\\Yarid\\AppData\\Local\\Programs\\Python\\Python310\\python.exe -m pip install --upgrade pip' command.\n"
     ]
    },
    {
     "name": "stdout",
     "output_type": "stream",
     "text": [
      "Requirement already satisfied: scikit-learn in c:\\users\\yarid\\appdata\\local\\programs\\python\\python310\\lib\\site-packages (1.6.1)\n",
      "Requirement already satisfied: numpy>=1.19.5 in c:\\users\\yarid\\appdata\\local\\programs\\python\\python310\\lib\\site-packages (from scikit-learn) (1.24.4)\n",
      "Requirement already satisfied: threadpoolctl>=3.1.0 in c:\\users\\yarid\\appdata\\local\\programs\\python\\python310\\lib\\site-packages (from scikit-learn) (3.6.0)\n",
      "Requirement already satisfied: joblib>=1.2.0 in c:\\users\\yarid\\appdata\\local\\programs\\python\\python310\\lib\\site-packages (from scikit-learn) (1.4.2)\n",
      "Requirement already satisfied: scipy>=1.6.0 in c:\\users\\yarid\\appdata\\local\\programs\\python\\python310\\lib\\site-packages (from scikit-learn) (1.15.2)\n",
      "Note: you may need to restart the kernel to use updated packages.\n"
     ]
    },
    {
     "name": "stderr",
     "output_type": "stream",
     "text": [
      "WARNING: You are using pip version 21.2.3; however, version 25.1 is available.\n",
      "You should consider upgrading via the 'c:\\Users\\Yarid\\AppData\\Local\\Programs\\Python\\Python310\\python.exe -m pip install --upgrade pip' command.\n"
     ]
    },
    {
     "name": "stdout",
     "output_type": "stream",
     "text": [
      "Requirement already satisfied: torch in c:\\users\\yarid\\appdata\\local\\programs\\python\\python310\\lib\\site-packages (2.7.0)\n",
      "Requirement already satisfied: fsspec in c:\\users\\yarid\\appdata\\local\\programs\\python\\python310\\lib\\site-packages (from torch) (2023.12.2)\n",
      "Requirement already satisfied: networkx in c:\\users\\yarid\\appdata\\local\\programs\\python\\python310\\lib\\site-packages (from torch) (3.2.1)\n",
      "Requirement already satisfied: typing-extensions>=4.10.0 in c:\\users\\yarid\\appdata\\local\\programs\\python\\python310\\lib\\site-packages (from torch) (4.13.2)\n",
      "Requirement already satisfied: sympy>=1.13.3 in c:\\users\\yarid\\appdata\\local\\programs\\python\\python310\\lib\\site-packages (from torch) (1.13.3)\n",
      "Requirement already satisfied: filelock in c:\\users\\yarid\\appdata\\local\\programs\\python\\python310\\lib\\site-packages (from torch) (3.12.2)\n",
      "Requirement already satisfied: jinja2 in c:\\users\\yarid\\appdata\\local\\programs\\python\\python310\\lib\\site-packages (from torch) (3.1.3)\n",
      "Requirement already satisfied: mpmath<1.4,>=1.1.0 in c:\\users\\yarid\\appdata\\local\\programs\\python\\python310\\lib\\site-packages (from sympy>=1.13.3->torch) (1.3.0)\n",
      "Requirement already satisfied: MarkupSafe>=2.0 in c:\\users\\yarid\\appdata\\local\\programs\\python\\python310\\lib\\site-packages (from jinja2->torch) (2.1.3)\n",
      "Note: you may need to restart the kernel to use updated packages.\n"
     ]
    },
    {
     "name": "stderr",
     "output_type": "stream",
     "text": [
      "WARNING: You are using pip version 21.2.3; however, version 25.1 is available.\n",
      "You should consider upgrading via the 'c:\\Users\\Yarid\\AppData\\Local\\Programs\\Python\\Python310\\python.exe -m pip install --upgrade pip' command.\n"
     ]
    },
    {
     "name": "stdout",
     "output_type": "stream",
     "text": [
      "Requirement already satisfied: transformers in c:\\users\\yarid\\appdata\\local\\programs\\python\\python310\\lib\\site-packages (4.37.2)\n",
      "Requirement already satisfied: requests in c:\\users\\yarid\\appdata\\local\\programs\\python\\python310\\lib\\site-packages (from transformers) (2.31.0)\n",
      "Requirement already satisfied: pyyaml>=5.1 in c:\\users\\yarid\\appdata\\local\\programs\\python\\python310\\lib\\site-packages (from transformers) (6.0.1)\n",
      "Requirement already satisfied: safetensors>=0.4.1 in c:\\users\\yarid\\appdata\\local\\programs\\python\\python310\\lib\\site-packages (from transformers) (0.4.2)\n",
      "Requirement already satisfied: regex!=2019.12.17 in c:\\users\\yarid\\appdata\\local\\programs\\python\\python310\\lib\\site-packages (from transformers) (2023.12.25)\n",
      "Requirement already satisfied: tokenizers<0.19,>=0.14 in c:\\users\\yarid\\appdata\\local\\programs\\python\\python310\\lib\\site-packages (from transformers) (0.15.1)\n",
      "Requirement already satisfied: tqdm>=4.27 in c:\\users\\yarid\\appdata\\local\\programs\\python\\python310\\lib\\site-packages (from transformers) (4.66.1)\n",
      "Requirement already satisfied: packaging>=20.0 in c:\\users\\yarid\\appdata\\local\\programs\\python\\python310\\lib\\site-packages (from transformers) (23.2)\n",
      "Requirement already satisfied: filelock in c:\\users\\yarid\\appdata\\local\\programs\\python\\python310\\lib\\site-packages (from transformers) (3.12.2)\n",
      "Requirement already satisfied: numpy>=1.17 in c:\\users\\yarid\\appdata\\local\\programs\\python\\python310\\lib\\site-packages (from transformers) (1.24.4)\n",
      "Requirement already satisfied: huggingface-hub<1.0,>=0.19.3 in c:\\users\\yarid\\appdata\\local\\programs\\python\\python310\\lib\\site-packages (from transformers) (0.30.2)\n",
      "Requirement already satisfied: typing-extensions>=3.7.4.3 in c:\\users\\yarid\\appdata\\local\\programs\\python\\python310\\lib\\site-packages (from huggingface-hub<1.0,>=0.19.3->transformers) (4.13.2)\n",
      "Requirement already satisfied: fsspec>=2023.5.0 in c:\\users\\yarid\\appdata\\local\\programs\\python\\python310\\lib\\site-packages (from huggingface-hub<1.0,>=0.19.3->transformers) (2023.12.2)\n",
      "Requirement already satisfied: colorama in c:\\users\\yarid\\appdata\\local\\programs\\python\\python310\\lib\\site-packages (from tqdm>=4.27->transformers) (0.4.6)\n",
      "Requirement already satisfied: idna<4,>=2.5 in c:\\users\\yarid\\appdata\\local\\programs\\python\\python310\\lib\\site-packages (from requests->transformers) (3.6)\n",
      "Requirement already satisfied: certifi>=2017.4.17 in c:\\users\\yarid\\appdata\\local\\programs\\python\\python310\\lib\\site-packages (from requests->transformers) (2023.11.17)\n",
      "Requirement already satisfied: charset-normalizer<4,>=2 in c:\\users\\yarid\\appdata\\local\\programs\\python\\python310\\lib\\site-packages (from requests->transformers) (3.3.2)\n",
      "Requirement already satisfied: urllib3<3,>=1.21.1 in c:\\users\\yarid\\appdata\\local\\programs\\python\\python310\\lib\\site-packages (from requests->transformers) (2.2.1)\n",
      "Note: you may need to restart the kernel to use updated packages.\n"
     ]
    },
    {
     "name": "stderr",
     "output_type": "stream",
     "text": [
      "WARNING: You are using pip version 21.2.3; however, version 25.1 is available.\n",
      "You should consider upgrading via the 'c:\\Users\\Yarid\\AppData\\Local\\Programs\\Python\\Python310\\python.exe -m pip install --upgrade pip' command.\n"
     ]
    },
    {
     "name": "stdout",
     "output_type": "stream",
     "text": [
      "Requirement already satisfied: nltk in c:\\users\\yarid\\appdata\\local\\programs\\python\\python310\\lib\\site-packages (3.9.1)\n",
      "Requirement already satisfied: joblib in c:\\users\\yarid\\appdata\\local\\programs\\python\\python310\\lib\\site-packages (from nltk) (1.4.2)\n",
      "Requirement already satisfied: tqdm in c:\\users\\yarid\\appdata\\local\\programs\\python\\python310\\lib\\site-packages (from nltk) (4.66.1)\n",
      "Requirement already satisfied: regex>=2021.8.3 in c:\\users\\yarid\\appdata\\local\\programs\\python\\python310\\lib\\site-packages (from nltk) (2023.12.25)\n",
      "Requirement already satisfied: click in c:\\users\\yarid\\appdata\\local\\programs\\python\\python310\\lib\\site-packages (from nltk) (8.1.7)\n",
      "Requirement already satisfied: colorama in c:\\users\\yarid\\appdata\\local\\programs\\python\\python310\\lib\\site-packages (from click->nltk) (0.4.6)\n",
      "Note: you may need to restart the kernel to use updated packages.\n"
     ]
    },
    {
     "name": "stderr",
     "output_type": "stream",
     "text": [
      "WARNING: You are using pip version 21.2.3; however, version 25.1 is available.\n",
      "You should consider upgrading via the 'c:\\Users\\Yarid\\AppData\\Local\\Programs\\Python\\Python310\\python.exe -m pip install --upgrade pip' command.\n"
     ]
    }
   ],
   "source": [
    "%pip install pandas\n",
    "%pip install numpy\n",
    "%pip install matplotlib\n",
    "%pip install seaborn\n",
    "%pip install tqdm\n",
    "%pip install scikit-learn\n",
    "%pip install torch\n",
    "%pip install transformers\n",
    "%pip install nltk\n",
    "\n",
    "\n",
    "import pandas as pd\n",
    "import numpy as np\n",
    "import re\n",
    "import os\n",
    "import sys\n",
    "from pathlib import Path\n",
    "import matplotlib.pyplot as plt\n",
    "import seaborn as sns\n",
    "\n",
    "\n",
    "from tqdm import tqdm\n",
    "\n",
    "\n",
    "import torch\n",
    "from transformers import BertTokenizer, BertModel\n",
    "\n",
    "\n",
    "import nltk\n",
    "from nltk.corpus import stopwords\n",
    "from nltk.tokenize import word_tokenize\n",
    "\n",
    "\n",
    "from sklearn.model_selection import train_test_split\n",
    "from sklearn.svm import LinearSVC\n",
    "from sklearn.multiclass import OneVsRestClassifier\n",
    "from sklearn.metrics import (\n",
    "    accuracy_score,\n",
    "    precision_score,\n",
    "    recall_score,\n",
    "    f1_score,\n",
    "    classification_report,\n",
    "    precision_recall_curve,\n",
    "    average_precision_score\n",
    ")\n"
   ]
  },
  {
   "cell_type": "code",
   "execution_count": 55,
   "metadata": {},
   "outputs": [],
   "source": [
    "def balance_check(data, target):\n",
    "    try:\n",
    "        df = pd.read_csv(data)\n",
    "    except:\n",
    "        print(\"Error Reading cannot be found\")\n",
    "        return\n",
    "\n",
    "    #now check value counts\n",
    "    ones_percentage = df[target].value_counts(normalize=True).loc[1] * 100\n",
    "    print(f\"Percentage of 1s for : {ones_percentage:.2f}%\")\n",
    "\n",
    "    return\n",
    "\n"
   ]
  },
  {
   "cell_type": "code",
   "execution_count": 56,
   "metadata": {},
   "outputs": [
    {
     "name": "stdout",
     "output_type": "stream",
     "text": [
      "Percentage of 1s for : 9.58%\n",
      "Percentage of 1s for : 1.00%\n",
      "Percentage of 1s for : 5.29%\n",
      "Percentage of 1s for : 0.30%\n",
      "Percentage of 1s for : 4.94%\n",
      "Percentage of 1s for : 0.88%\n"
     ]
    }
   ],
   "source": [
    "balance_check(\"data/train.csv/train.csv\",\"toxic\")\n",
    "balance_check(\"data/train.csv/train.csv\",\"severe_toxic\")\n",
    "balance_check(\"data/train.csv/train.csv\",\"obscene\")\n",
    "balance_check(\"data/train.csv/train.csv\",\"threat\")\n",
    "balance_check(\"data/train.csv/train.csv\",\"insult\")\n",
    "balance_check(\"data/train.csv/train.csv\",\"identity_hate\")"
   ]
  },
  {
   "cell_type": "code",
   "execution_count": 57,
   "metadata": {},
   "outputs": [
    {
     "data": {
      "text/html": [
       "<div>\n",
       "<style scoped>\n",
       "    .dataframe tbody tr th:only-of-type {\n",
       "        vertical-align: middle;\n",
       "    }\n",
       "\n",
       "    .dataframe tbody tr th {\n",
       "        vertical-align: top;\n",
       "    }\n",
       "\n",
       "    .dataframe thead th {\n",
       "        text-align: right;\n",
       "    }\n",
       "</style>\n",
       "<table border=\"1\" class=\"dataframe\">\n",
       "  <thead>\n",
       "    <tr style=\"text-align: right;\">\n",
       "      <th></th>\n",
       "      <th>id</th>\n",
       "      <th>comment_text</th>\n",
       "      <th>toxic</th>\n",
       "      <th>severe_toxic</th>\n",
       "      <th>obscene</th>\n",
       "      <th>threat</th>\n",
       "      <th>insult</th>\n",
       "      <th>identity_hate</th>\n",
       "    </tr>\n",
       "  </thead>\n",
       "  <tbody>\n",
       "    <tr>\n",
       "      <th>0</th>\n",
       "      <td>0000997932d777bf</td>\n",
       "      <td>Explanation\\r\\nWhy the edits made under my use...</td>\n",
       "      <td>0</td>\n",
       "      <td>0</td>\n",
       "      <td>0</td>\n",
       "      <td>0</td>\n",
       "      <td>0</td>\n",
       "      <td>0</td>\n",
       "    </tr>\n",
       "    <tr>\n",
       "      <th>1</th>\n",
       "      <td>000103f0d9cfb60f</td>\n",
       "      <td>D'aww! He matches this background colour I'm s...</td>\n",
       "      <td>0</td>\n",
       "      <td>0</td>\n",
       "      <td>0</td>\n",
       "      <td>0</td>\n",
       "      <td>0</td>\n",
       "      <td>0</td>\n",
       "    </tr>\n",
       "    <tr>\n",
       "      <th>2</th>\n",
       "      <td>000113f07ec002fd</td>\n",
       "      <td>Hey man, I'm really not trying to edit war. It...</td>\n",
       "      <td>0</td>\n",
       "      <td>0</td>\n",
       "      <td>0</td>\n",
       "      <td>0</td>\n",
       "      <td>0</td>\n",
       "      <td>0</td>\n",
       "    </tr>\n",
       "    <tr>\n",
       "      <th>3</th>\n",
       "      <td>0001b41b1c6bb37e</td>\n",
       "      <td>\"\\r\\nMore\\r\\nI can't make any real suggestions...</td>\n",
       "      <td>0</td>\n",
       "      <td>0</td>\n",
       "      <td>0</td>\n",
       "      <td>0</td>\n",
       "      <td>0</td>\n",
       "      <td>0</td>\n",
       "    </tr>\n",
       "    <tr>\n",
       "      <th>4</th>\n",
       "      <td>0001d958c54c6e35</td>\n",
       "      <td>You, sir, are my hero. Any chance you remember...</td>\n",
       "      <td>0</td>\n",
       "      <td>0</td>\n",
       "      <td>0</td>\n",
       "      <td>0</td>\n",
       "      <td>0</td>\n",
       "      <td>0</td>\n",
       "    </tr>\n",
       "  </tbody>\n",
       "</table>\n",
       "</div>"
      ],
      "text/plain": [
       "                 id                                       comment_text  toxic  \\\n",
       "0  0000997932d777bf  Explanation\\r\\nWhy the edits made under my use...      0   \n",
       "1  000103f0d9cfb60f  D'aww! He matches this background colour I'm s...      0   \n",
       "2  000113f07ec002fd  Hey man, I'm really not trying to edit war. It...      0   \n",
       "3  0001b41b1c6bb37e  \"\\r\\nMore\\r\\nI can't make any real suggestions...      0   \n",
       "4  0001d958c54c6e35  You, sir, are my hero. Any chance you remember...      0   \n",
       "\n",
       "   severe_toxic  obscene  threat  insult  identity_hate  \n",
       "0             0        0       0       0              0  \n",
       "1             0        0       0       0              0  \n",
       "2             0        0       0       0              0  \n",
       "3             0        0       0       0              0  \n",
       "4             0        0       0       0              0  "
      ]
     },
     "execution_count": 57,
     "metadata": {},
     "output_type": "execute_result"
    }
   ],
   "source": [
    "df1 = pd.read_csv(\"data/train.csv/train.csv\")\n",
    "df1.head()"
   ]
  },
  {
   "cell_type": "code",
   "execution_count": 59,
   "metadata": {},
   "outputs": [
    {
     "name": "stdout",
     "output_type": "stream",
     "text": [
      "Starting Toxic Comment Classification Pipeline\n",
      "Dataset loaded successfully!\n",
      "Shape: (159571, 8)\n",
      "\n",
      "Null values per column:\n",
      "id               0\n",
      "comment_text     0\n",
      "toxic            0\n",
      "severe_toxic     0\n",
      "obscene          0\n",
      "threat           0\n",
      "insult           0\n",
      "identity_hate    0\n",
      "dtype: int64\n",
      "\n",
      "Text processing examples:\n",
      "\n",
      "Original 0:\n",
      "Explanation\n",
      "Why the edits made under my username Hardcore Metallica Fan were reverted? They weren't vandalisms, just closure on some GAs after I voted at New York Dolls FAC. And please don't remove the template from the talk page since I'm retired now.89.205.38.27\n",
      "\n",
      "Processed:\n",
      "explanation why the edits made under my username hardcore metallica fan were reverted? they weren't vandalisms just closure on some gas after i voted at new york dolls fac. and please don't remove the template from the talk page since i'm retired now.\n",
      "--------------------------------------------------\n",
      "\n",
      "Original 1:\n",
      "D'aww! He matches this background colour I'm seemingly stuck with. Thanks.  (talk) 21:51, January 11, 2016 (UTC)\n",
      "\n",
      "Processed:\n",
      "d'aww! he matches this background colour i'm seemingly stuck with. thanks. talk 21 51 january 11 2016 utc\n",
      "--------------------------------------------------\n",
      "\n",
      "Original 2:\n",
      "Hey man, I'm really not trying to edit war. It's just that this guy is constantly removing relevant information and talking to me through edits instead of my talk page. He seems to care more about the formatting than the actual info.\n",
      "\n",
      "Processed:\n",
      "hey man i'm really not trying to edit war. it's just that this guy is constantly removing relevant information and talking to me through edits instead of my talk page. he seems to care more about the formatting than the actual info.\n",
      "--------------------------------------------------\n",
      "\n",
      "Initializing BERT model...\n"
     ]
    },
    {
     "name": "stderr",
     "output_type": "stream",
     "text": [
      "c:\\Users\\Yarid\\AppData\\Local\\Programs\\Python\\Python310\\lib\\site-packages\\huggingface_hub\\file_download.py:896: FutureWarning: `resume_download` is deprecated and will be removed in version 1.0.0. Downloads always resume when possible. If you want to force a new download, use `force_download=True`.\n",
      "  warnings.warn(\n"
     ]
    },
    {
     "name": "stdout",
     "output_type": "stream",
     "text": [
      "BERT initialized successfully\n",
      "\n",
      "Tokenization example:\n",
      "\n",
      "Sample text: explanation why the edits made under my username hardcore metallica fan were reverted? they weren't vandalisms just closure on some gas after i voted at new york dolls fac. and please don't remove the template from the talk page since i'm retired now.\n",
      "\n",
      "Tokens: ['explanation', 'why', 'the', 'edit', '##s', 'made', 'under', 'my', 'user', '##name', 'hardcore', 'metallic', '##a', 'fan', 'were', 'reverted', '?', 'they', 'weren', \"'\", 't', 'van', '##dal', '##isms', 'just', 'closure', 'on', 'some', 'gas', 'after', 'i', 'voted', 'at', 'new', 'york', 'dolls', 'fa', '##c', '.', 'and', 'please', 'don', \"'\", 't', 'remove', 'the', 'template', 'from', 'the', 'talk', 'page', 'since', 'i', \"'\", 'm', 'retired', 'now', '.']\n",
      "\n",
      "Token IDs: [101, 7526, 2339, 1996, 10086, 2015, 2081, 2104, 2026, 5310, 18442, 13076, 12392, 2050, 5470, 2020, 16407, 1029, 2027, 4694, 1005, 1056, 3158, 9305, 22556, 2074, 8503, 2006, 2070, 3806, 2044, 1045, 5444, 2012, 2047, 2259, 14421, 6904, 2278, 1012, 1998, 3531, 2123, 1005, 1056, 6366, 1996, 23561, 2013, 1996, 2831, 3931, 2144, 1045, 1005, 1049, 3394, 2085, 1012, 102]\n",
      "\n",
      "Pipeline execution complete\n"
     ]
    }
   ],
   "source": [
    "import pandas as pd\n",
    "import numpy as np\n",
    "import re\n",
    "import os\n",
    "import nltk\n",
    "from nltk.corpus import stopwords\n",
    "from nltk.tokenize import word_tokenize\n",
    "from transformers import BertTokenizer, BertModel\n",
    "from tqdm import tqdm\n",
    "\n",
    "#  NLTK Fix for LookupError\n",
    "nltk.download('punkt', quiet=True)\n",
    "nltk.download('stopwords', quiet=True)\n",
    "nltk_path = os.path.join(os.path.expanduser('~'), 'AppData', 'Roaming', 'nltk_data')\n",
    "if nltk_path not in nltk.data.path:\n",
    "    nltk.data.path.append(nltk_path)\n",
    "try:\n",
    "    _ = stopwords.words('english')\n",
    "except LookupError as e:\n",
    "    print(\"NLTK stopwords resource not found, attempting to download again...\")\n",
    "    nltk.download('stopwords')\n",
    "    _ = stopwords.words('english')\n",
    "\n",
    "def load_dataset(file_path):\n",
    "    try:\n",
    "        df = pd.read_csv(file_path)\n",
    "\n",
    "        print(\"Dataset loaded successfully!\")\n",
    "        print(f\"Shape: {df.shape}\")\n",
    "\n",
    "        # check for null values\n",
    "        print(\"\\nNull values per column:\")\n",
    "        print(df.isnull().sum())\n",
    "\n",
    "        return df\n",
    "\n",
    "    except Exception as e:\n",
    "        print(f\"Error loading dataset: {e}\")\n",
    "        return None\n",
    "\n",
    "def clean_text(text):\n",
    "    if not isinstance(text, str):\n",
    "        return \"\"\n",
    "\n",
    "    # remove artifacts and wikimarkups\n",
    "    text = re.sub(r'==.*?==+', '', text)\n",
    "    text = re.sub(r'\\[\\[.*?\\]\\]', '', text)\n",
    "    text = re.sub(r'\\{\\{.*?\\}\\}', '', text)\n",
    "    text = re.sub(r'__[A-Z]+__', '', text)\n",
    "    text = re.sub(r'&[a-z]+;', '', text)\n",
    "    text = re.sub(r'<.*?>', '', text)\n",
    "\n",
    "    # URLs, IPs, timestamps, extra spaces, and lowercasing\n",
    "    text = re.sub(r'http\\S+|www\\S+|https\\S+', '', text, flags=re.MULTILINE)\n",
    "    text = re.sub(r'\\b\\d{1,3}\\.\\d{1,3}\\.\\d{1,3}\\.\\d{1,3}\\b', '', text)\n",
    "    text = re.sub(r'\\d{1,2}:\\d{2},?\\s*\\d{1,2}\\s+\\w+\\s+\\d{4}', '', text)\n",
    "    text = re.sub(r\"[^\\w\\s'!?.]\", ' ', text)\n",
    "    text = re.sub(r'\\s+', ' ', text).strip().lower()\n",
    "\n",
    "    return text\n",
    "\n",
    "def remove_stopwords(text):\n",
    "    try:\n",
    "        stop_words = set(stopwords.words('english'))\n",
    "\n",
    "        custom_stopwords = {\n",
    "            'wikipedia', 'page', 'article', 'edit', 'user', 'talk',\n",
    "            'section', 'redirect', 'category', 'file', 'image', 'template'\n",
    "        }\n",
    "        stop_words.update(custom_stopwords)\n",
    "\n",
    "        negation_words = {\n",
    "            'not', 'no', 'never', 'none', 'nor', 'neither',\n",
    "            \"don't\", \"isn't\", \"aren't\", \"wasn't\", \"weren't\",\n",
    "            \"haven't\", \"hasn't\", \"hadn't\", \"won't\", \"wouldn't\"\n",
    "        }\n",
    "        stop_words -= negation_words\n",
    "\n",
    "        tokens = word_tokenize(text)\n",
    "        filtered_tokens = [\n",
    "            word for word in tokens \n",
    "            if word not in stop_words and len(word) > 2 and not word.startswith(\"'\")\n",
    "        ]\n",
    "\n",
    "        return ' '.join(filtered_tokens)\n",
    "    except LookupError as e:\n",
    "        if \"stopwords\" in str(e) or \"punkt\" in str(e):\n",
    "            nltk.download('punkt', quiet=True)\n",
    "            nltk.download('stopwords', quiet=True)\n",
    "            try:\n",
    "                stop_words = set(stopwords.words('english'))\n",
    "                tokens = word_tokenize(text)\n",
    "                return ' '.join(tokens)  # fallback: just tokenize\n",
    "            except Exception:\n",
    "                return text  # worst case: return raw text\n",
    "        return text\n",
    "\n",
    "def initialize_bert():\n",
    "    print(\"\\nInitializing BERT model...\")\n",
    "    try:\n",
    "        tokenizer = BertTokenizer.from_pretrained('bert-base-uncased')\n",
    "        model = BertModel.from_pretrained('bert-base-uncased')\n",
    "        print(\"BERT initialized successfully\")\n",
    "        return tokenizer, model\n",
    "    except Exception as e:\n",
    "        print(f\"Error initializing BERT: {e}\")\n",
    "        return None, None\n",
    "\n",
    "if __name__ == \"__main__\":\n",
    "    FILE_PATH = \"data/train.csv/train.csv\"\n",
    "\n",
    "    print(\"Starting Toxic Comment Classification Pipeline\")\n",
    "    df = load_dataset(FILE_PATH)\n",
    "\n",
    "    if df is not None:\n",
    "        df['cleaned_text'] = df['comment_text'].apply(clean_text)\n",
    "        df['processed_text'] = df['cleaned_text'].apply(remove_stopwords)\n",
    "\n",
    "        # show some examples of cleaning\n",
    "        print(\"\\nText processing examples:\")\n",
    "        for i in range(3):\n",
    "            print(f\"\\nOriginal {i}:\")\n",
    "            print(df['comment_text'].iloc[i])\n",
    "            print(\"\\nProcessed:\")\n",
    "            print(df['processed_text'].iloc[i])\n",
    "            print(\"-\"*50)\n",
    "\n",
    "        bert_tokenizer, bert_model = initialize_bert()\n",
    "\n",
    "        if bert_tokenizer:\n",
    "            print(\"\\nTokenization example:\")\n",
    "            sample_text = df['processed_text'].iloc[0]\n",
    "            print(f\"\\nSample text: {sample_text}\")\n",
    "\n",
    "            tokens = bert_tokenizer.tokenize(sample_text)\n",
    "            print(f\"\\nTokens: {tokens}\")\n",
    "\n",
    "            token_ids = bert_tokenizer.encode(sample_text, add_special_tokens=True)\n",
    "            print(f\"\\nToken IDs: {token_ids}\")\n",
    "\n",
    "    print(\"\\nPipeline execution complete\")\n"
   ]
  },
  {
   "cell_type": "code",
   "execution_count": 60,
   "metadata": {},
   "outputs": [],
   "source": [
    "\n",
    "if df is not None:\n",
    "    df['cleaned_text'] = df['comment_text'].apply(clean_text)\n",
    "    df['processed_text'] = df['cleaned_text'].apply(remove_stopwords)\n"
   ]
  },
  {
   "cell_type": "code",
   "execution_count": null,
   "metadata": {},
   "outputs": [],
   "source": [
    "\n",
    "batch_size = 64\n",
    "embeddings = []\n",
    "\n",
    "# Process in batches\n",
    "for i in tqdm(range(0, len(df), batch_size)):\n",
    "    batch_texts = df['processed_text'].iloc[i:i+batch_size].tolist()\n",
    "    inputs = bert_tokenizer(batch_texts, return_tensors=\"pt\", padding=True, truncation=True, max_length=512)\n",
    "\n",
    "    with torch.no_grad():\n",
    "        outputs = bert_model(**inputs)\n",
    "\n",
    "    cls_embeddings = outputs.last_hidden_state[:, 0, :].cpu().numpy()  # CLS token outputs\n",
    "    embeddings.append(cls_embeddings)\n",
    "\n",
    "    \n",
    "df['bert_embedding'] = np.vstack(embeddings).tolist()\n"
   ]
  },
  {
   "cell_type": "code",
   "execution_count": 61,
   "metadata": {},
   "outputs": [],
   "source": [
    "repo_root = Path().resolve()\n",
    "emb_path  = repo_root / \"trained_embeddings.csv\"\n",
    "\n",
    "df = pd.read_csv(emb_path)\n",
    "\n",
    "# 3) Extract the numbers into real arrays\n",
    "def extract_numbers(s):\n",
    "    if isinstance(s, str):\n",
    "        # fix potential corruptions in the file \n",
    "        s = s.replace(\"\\n\", \" \")\n",
    "        nums = re.findall(r\"-?\\d+\\.\\d+e[+-]?\\d+|-?\\d+\\.\\d+|-?\\d+\", s)\n",
    "        return np.array(list(map(float, nums)))\n",
    "    return np.array([])\n",
    "\n",
    "df[\"bert_embedding\"] = df[\"bert_embedding\"].apply(extract_numbers)\n"
   ]
  },
  {
   "cell_type": "code",
   "execution_count": 62,
   "metadata": {},
   "outputs": [
    {
     "name": "stdout",
     "output_type": "stream",
     "text": [
      "\n",
      "BERT embeddings preview:\n",
      "0    [-0.314486623, -0.0908075944, -0.13584879, -0....\n",
      "1    [-0.64000684, -0.159012794, 0.136123598, -0.32...\n",
      "2    [0.0685186237, 0.185241759, -0.125454396, -0.1...\n",
      "Name: bert_embedding, dtype: object\n"
     ]
    }
   ],
   "source": [
    "# Show the shape of the embeddings and a preview\n",
    "print(\"\\nBERT embeddings preview:\")\n",
    "print(df['bert_embedding'].head(3))  # we can show the first 3"
   ]
  },
  {
   "cell_type": "code",
   "execution_count": 63,
   "metadata": {},
   "outputs": [
    {
     "data": {
      "text/html": [
       "<div>\n",
       "<style scoped>\n",
       "    .dataframe tbody tr th:only-of-type {\n",
       "        vertical-align: middle;\n",
       "    }\n",
       "\n",
       "    .dataframe tbody tr th {\n",
       "        vertical-align: top;\n",
       "    }\n",
       "\n",
       "    .dataframe thead th {\n",
       "        text-align: right;\n",
       "    }\n",
       "</style>\n",
       "<table border=\"1\" class=\"dataframe\">\n",
       "  <thead>\n",
       "    <tr style=\"text-align: right;\">\n",
       "      <th></th>\n",
       "      <th>processed_text</th>\n",
       "      <th>bert_embedding</th>\n",
       "    </tr>\n",
       "  </thead>\n",
       "  <tbody>\n",
       "    <tr>\n",
       "      <th>0</th>\n",
       "      <td>explanation edits made username hardcore metal...</td>\n",
       "      <td>[-0.314486623, -0.0908075944, -0.13584879, -0....</td>\n",
       "    </tr>\n",
       "    <tr>\n",
       "      <th>1</th>\n",
       "      <td>d'aww matches background colour seemingly stuc...</td>\n",
       "      <td>[-0.64000684, -0.159012794, 0.136123598, -0.32...</td>\n",
       "    </tr>\n",
       "    <tr>\n",
       "      <th>2</th>\n",
       "      <td>hey man really not trying war guy constantly r...</td>\n",
       "      <td>[0.0685186237, 0.185241759, -0.125454396, -0.1...</td>\n",
       "    </tr>\n",
       "  </tbody>\n",
       "</table>\n",
       "</div>"
      ],
      "text/plain": [
       "                                      processed_text  \\\n",
       "0  explanation edits made username hardcore metal...   \n",
       "1  d'aww matches background colour seemingly stuc...   \n",
       "2  hey man really not trying war guy constantly r...   \n",
       "\n",
       "                                      bert_embedding  \n",
       "0  [-0.314486623, -0.0908075944, -0.13584879, -0....  \n",
       "1  [-0.64000684, -0.159012794, 0.136123598, -0.32...  \n",
       "2  [0.0685186237, 0.185241759, -0.125454396, -0.1...  "
      ]
     },
     "execution_count": 63,
     "metadata": {},
     "output_type": "execute_result"
    }
   ],
   "source": [
    "df[['processed_text', 'bert_embedding']].head(3)\n"
   ]
  },
  {
   "cell_type": "code",
   "execution_count": null,
   "metadata": {},
   "outputs": [],
   "source": [
    "#save the embeddings to csv so we don't have to rerun the code -  don't need to rerun this cell this is for just saving the embeddings\n",
    "\n",
    "df.to_csv(\"data/trained_embeddings.csv\", index=False)\n"
   ]
  },
  {
   "cell_type": "code",
   "execution_count": 65,
   "metadata": {},
   "outputs": [
    {
     "data": {
      "text/html": [
       "<div>\n",
       "<style scoped>\n",
       "    .dataframe tbody tr th:only-of-type {\n",
       "        vertical-align: middle;\n",
       "    }\n",
       "\n",
       "    .dataframe tbody tr th {\n",
       "        vertical-align: top;\n",
       "    }\n",
       "\n",
       "    .dataframe thead th {\n",
       "        text-align: right;\n",
       "    }\n",
       "</style>\n",
       "<table border=\"1\" class=\"dataframe\">\n",
       "  <thead>\n",
       "    <tr style=\"text-align: right;\">\n",
       "      <th></th>\n",
       "      <th>id</th>\n",
       "      <th>comment_text</th>\n",
       "      <th>toxic</th>\n",
       "      <th>severe_toxic</th>\n",
       "      <th>obscene</th>\n",
       "      <th>threat</th>\n",
       "      <th>insult</th>\n",
       "      <th>identity_hate</th>\n",
       "      <th>cleaned_text</th>\n",
       "      <th>processed_text</th>\n",
       "      <th>bert_embedding</th>\n",
       "    </tr>\n",
       "  </thead>\n",
       "  <tbody>\n",
       "    <tr>\n",
       "      <th>0</th>\n",
       "      <td>0000997932d777bf</td>\n",
       "      <td>Explanation\\nWhy the edits made under my usern...</td>\n",
       "      <td>0</td>\n",
       "      <td>0</td>\n",
       "      <td>0</td>\n",
       "      <td>0</td>\n",
       "      <td>0</td>\n",
       "      <td>0</td>\n",
       "      <td>explanation why the edits made under my userna...</td>\n",
       "      <td>explanation edits made username hardcore metal...</td>\n",
       "      <td>[-0.314486623, -0.0908075944, -0.13584879, -0....</td>\n",
       "    </tr>\n",
       "    <tr>\n",
       "      <th>1</th>\n",
       "      <td>000103f0d9cfb60f</td>\n",
       "      <td>D'aww! He matches this background colour I'm s...</td>\n",
       "      <td>0</td>\n",
       "      <td>0</td>\n",
       "      <td>0</td>\n",
       "      <td>0</td>\n",
       "      <td>0</td>\n",
       "      <td>0</td>\n",
       "      <td>d'aww! he matches this background colour i'm s...</td>\n",
       "      <td>d'aww matches background colour seemingly stuc...</td>\n",
       "      <td>[-0.64000684, -0.159012794, 0.136123598, -0.32...</td>\n",
       "    </tr>\n",
       "    <tr>\n",
       "      <th>2</th>\n",
       "      <td>000113f07ec002fd</td>\n",
       "      <td>Hey man, I'm really not trying to edit war. It...</td>\n",
       "      <td>0</td>\n",
       "      <td>0</td>\n",
       "      <td>0</td>\n",
       "      <td>0</td>\n",
       "      <td>0</td>\n",
       "      <td>0</td>\n",
       "      <td>hey man i'm really not trying to edit war. it'...</td>\n",
       "      <td>hey man really not trying war guy constantly r...</td>\n",
       "      <td>[0.0685186237, 0.185241759, -0.125454396, -0.1...</td>\n",
       "    </tr>\n",
       "    <tr>\n",
       "      <th>3</th>\n",
       "      <td>0001b41b1c6bb37e</td>\n",
       "      <td>\"\\nMore\\nI can't make any real suggestions on ...</td>\n",
       "      <td>0</td>\n",
       "      <td>0</td>\n",
       "      <td>0</td>\n",
       "      <td>0</td>\n",
       "      <td>0</td>\n",
       "      <td>0</td>\n",
       "      <td>more i can't make any real suggestions on impr...</td>\n",
       "      <td>n't make real suggestions improvement wondered...</td>\n",
       "      <td>[0.0859799385, 0.389762282, 0.223314866, -0.11...</td>\n",
       "    </tr>\n",
       "    <tr>\n",
       "      <th>4</th>\n",
       "      <td>0001d958c54c6e35</td>\n",
       "      <td>You, sir, are my hero. Any chance you remember...</td>\n",
       "      <td>0</td>\n",
       "      <td>0</td>\n",
       "      <td>0</td>\n",
       "      <td>0</td>\n",
       "      <td>0</td>\n",
       "      <td>0</td>\n",
       "      <td>you sir are my hero. any chance you remember w...</td>\n",
       "      <td>sir hero chance remember</td>\n",
       "      <td>[-0.135686234, 0.146607906, -0.0853934884, -0....</td>\n",
       "    </tr>\n",
       "  </tbody>\n",
       "</table>\n",
       "</div>"
      ],
      "text/plain": [
       "                 id                                       comment_text  toxic  \\\n",
       "0  0000997932d777bf  Explanation\\nWhy the edits made under my usern...      0   \n",
       "1  000103f0d9cfb60f  D'aww! He matches this background colour I'm s...      0   \n",
       "2  000113f07ec002fd  Hey man, I'm really not trying to edit war. It...      0   \n",
       "3  0001b41b1c6bb37e  \"\\nMore\\nI can't make any real suggestions on ...      0   \n",
       "4  0001d958c54c6e35  You, sir, are my hero. Any chance you remember...      0   \n",
       "\n",
       "   severe_toxic  obscene  threat  insult  identity_hate  \\\n",
       "0             0        0       0       0              0   \n",
       "1             0        0       0       0              0   \n",
       "2             0        0       0       0              0   \n",
       "3             0        0       0       0              0   \n",
       "4             0        0       0       0              0   \n",
       "\n",
       "                                        cleaned_text  \\\n",
       "0  explanation why the edits made under my userna...   \n",
       "1  d'aww! he matches this background colour i'm s...   \n",
       "2  hey man i'm really not trying to edit war. it'...   \n",
       "3  more i can't make any real suggestions on impr...   \n",
       "4  you sir are my hero. any chance you remember w...   \n",
       "\n",
       "                                      processed_text  \\\n",
       "0  explanation edits made username hardcore metal...   \n",
       "1  d'aww matches background colour seemingly stuc...   \n",
       "2  hey man really not trying war guy constantly r...   \n",
       "3  n't make real suggestions improvement wondered...   \n",
       "4                           sir hero chance remember   \n",
       "\n",
       "                                      bert_embedding  \n",
       "0  [-0.314486623, -0.0908075944, -0.13584879, -0....  \n",
       "1  [-0.64000684, -0.159012794, 0.136123598, -0.32...  \n",
       "2  [0.0685186237, 0.185241759, -0.125454396, -0.1...  \n",
       "3  [0.0859799385, 0.389762282, 0.223314866, -0.11...  \n",
       "4  [-0.135686234, 0.146607906, -0.0853934884, -0....  "
      ]
     },
     "execution_count": 65,
     "metadata": {},
     "output_type": "execute_result"
    }
   ],
   "source": [
    "df.head()\n"
   ]
  },
  {
   "cell_type": "code",
   "execution_count": 66,
   "metadata": {},
   "outputs": [
    {
     "data": {
      "text/html": [
       "<div>\n",
       "<style scoped>\n",
       "    .dataframe tbody tr th:only-of-type {\n",
       "        vertical-align: middle;\n",
       "    }\n",
       "\n",
       "    .dataframe tbody tr th {\n",
       "        vertical-align: top;\n",
       "    }\n",
       "\n",
       "    .dataframe thead th {\n",
       "        text-align: right;\n",
       "    }\n",
       "</style>\n",
       "<table border=\"1\" class=\"dataframe\">\n",
       "  <thead>\n",
       "    <tr style=\"text-align: right;\">\n",
       "      <th></th>\n",
       "      <th>toxic</th>\n",
       "      <th>severe_toxic</th>\n",
       "      <th>obscene</th>\n",
       "      <th>threat</th>\n",
       "      <th>insult</th>\n",
       "      <th>identity_hate</th>\n",
       "      <th>bert_embedding</th>\n",
       "    </tr>\n",
       "  </thead>\n",
       "  <tbody>\n",
       "    <tr>\n",
       "      <th>0</th>\n",
       "      <td>0</td>\n",
       "      <td>0</td>\n",
       "      <td>0</td>\n",
       "      <td>0</td>\n",
       "      <td>0</td>\n",
       "      <td>0</td>\n",
       "      <td>[-0.314486623, -0.0908075944, -0.13584879, -0....</td>\n",
       "    </tr>\n",
       "    <tr>\n",
       "      <th>1</th>\n",
       "      <td>0</td>\n",
       "      <td>0</td>\n",
       "      <td>0</td>\n",
       "      <td>0</td>\n",
       "      <td>0</td>\n",
       "      <td>0</td>\n",
       "      <td>[-0.64000684, -0.159012794, 0.136123598, -0.32...</td>\n",
       "    </tr>\n",
       "    <tr>\n",
       "      <th>2</th>\n",
       "      <td>0</td>\n",
       "      <td>0</td>\n",
       "      <td>0</td>\n",
       "      <td>0</td>\n",
       "      <td>0</td>\n",
       "      <td>0</td>\n",
       "      <td>[0.0685186237, 0.185241759, -0.125454396, -0.1...</td>\n",
       "    </tr>\n",
       "    <tr>\n",
       "      <th>3</th>\n",
       "      <td>0</td>\n",
       "      <td>0</td>\n",
       "      <td>0</td>\n",
       "      <td>0</td>\n",
       "      <td>0</td>\n",
       "      <td>0</td>\n",
       "      <td>[0.0859799385, 0.389762282, 0.223314866, -0.11...</td>\n",
       "    </tr>\n",
       "    <tr>\n",
       "      <th>4</th>\n",
       "      <td>0</td>\n",
       "      <td>0</td>\n",
       "      <td>0</td>\n",
       "      <td>0</td>\n",
       "      <td>0</td>\n",
       "      <td>0</td>\n",
       "      <td>[-0.135686234, 0.146607906, -0.0853934884, -0....</td>\n",
       "    </tr>\n",
       "  </tbody>\n",
       "</table>\n",
       "</div>"
      ],
      "text/plain": [
       "   toxic  severe_toxic  obscene  threat  insult  identity_hate  \\\n",
       "0      0             0        0       0       0              0   \n",
       "1      0             0        0       0       0              0   \n",
       "2      0             0        0       0       0              0   \n",
       "3      0             0        0       0       0              0   \n",
       "4      0             0        0       0       0              0   \n",
       "\n",
       "                                      bert_embedding  \n",
       "0  [-0.314486623, -0.0908075944, -0.13584879, -0....  \n",
       "1  [-0.64000684, -0.159012794, 0.136123598, -0.32...  \n",
       "2  [0.0685186237, 0.185241759, -0.125454396, -0.1...  \n",
       "3  [0.0859799385, 0.389762282, 0.223314866, -0.11...  \n",
       "4  [-0.135686234, 0.146607906, -0.0853934884, -0....  "
      ]
     },
     "execution_count": 66,
     "metadata": {},
     "output_type": "execute_result"
    }
   ],
   "source": [
    "df.drop('comment_text', axis=1, inplace=True)  # Drop original text column\n",
    "df.drop('cleaned_text', axis=1, inplace=True)  # Drop cleaned text column\n",
    "df.drop('processed_text', axis=1, inplace=True)  # Drop processed text column\n",
    "df.drop('id', axis=1, inplace=True)  # Drop BERT embedding column\n",
    "df.head()\n"
   ]
  },
  {
   "cell_type": "code",
   "execution_count": 67,
   "metadata": {},
   "outputs": [
    {
     "name": "stdout",
     "output_type": "stream",
     "text": [
      "Shape of X_train: (127656, 1)\n",
      "Shape of y_train: (127656, 6)\n",
      "Shape of X_test: (31915, 1)\n",
      "Shape of y_test: (31915, 6)\n"
     ]
    }
   ],
   "source": [
    "#splitting data into train and test\n",
    "\n",
    "features = ['bert_embedding']\n",
    "target_columns = ['toxic', 'severe_toxic', 'obscene', 'threat', 'insult', 'identity_hate']\n",
    "x= df[features]\n",
    "y = df[target_columns]\n",
    "\n",
    "x_train, x_test, y_train, y_test = train_test_split(x, y, test_size=0.2, random_state=42)   \n",
    "print(f\"Shape of X_train: {x_train.shape}\")\n",
    "print(f\"Shape of y_train: {y_train.shape}\")\n",
    "print(f\"Shape of X_test: {x_test.shape}\")\n",
    "print(f\"Shape of y_test: {y_test.shape}\")"
   ]
  },
  {
   "cell_type": "code",
   "execution_count": 68,
   "metadata": {},
   "outputs": [
    {
     "name": "stdout",
     "output_type": "stream",
     "text": [
      "Performance Metric Results\n",
      "train_accuracy : 0.9153\n",
      "test_accuracy  : 0.9110\n",
      "train_precision: 0.8460\n",
      "test_precision : 0.8164\n",
      "train_recall   : 0.5404\n",
      "test_recall    : 0.5141\n",
      "train_f1       : 0.6595\n",
      "test_f1        : 0.6309\n"
     ]
    }
   ],
   "source": [
    "# run classifier\n",
    "\n",
    "def run_multilabel_svm(X_train, y_train, X_test, y_test):\n",
    "    clf = OneVsRestClassifier(LinearSVC(max_iter=5000, dual=False))\n",
    "    clf.fit(X_train, y_train)\n",
    "    y_pred_train = clf.predict(X_train)\n",
    "    y_pred_test  = clf.predict(X_test)\n",
    "\n",
    "    # Performance metrics \n",
    "    metrics = {\n",
    "      'train_accuracy':  accuracy_score(y_train, y_pred_train),\n",
    "      'test_accuracy':   accuracy_score(y_test,  y_pred_test),\n",
    "      'train_precision': precision_score(y_train, y_pred_train, average='micro'),\n",
    "      'test_precision':  precision_score(y_test,  y_pred_test,  average='micro'),\n",
    "      'train_recall':    recall_score(y_train,    y_pred_train, average='micro'),\n",
    "      'test_recall':     recall_score(y_test,     y_pred_test,  average='micro'),\n",
    "      'train_f1':        f1_score(y_train,        y_pred_train, average='micro'),\n",
    "      'test_f1':         f1_score(y_test,         y_pred_test,  average='micro'),\n",
    "    }\n",
    "\n",
    "    return clf, metrics\n",
    "\n",
    "X_train = np.vstack(x_train['bert_embedding'])\n",
    "X_test  = np.vstack(x_test['bert_embedding'])\n",
    "\n",
    "clf, results = run_multilabel_svm(X_train, y_train, X_test, y_test)\n",
    "\n",
    "print(\"Performance Metric Results\")\n",
    "for name, val in results.items():\n",
    "    print(f\"{name:15s}: {val:.4f}\")\n"
   ]
  },
  {
   "cell_type": "code",
   "execution_count": 111,
   "metadata": {},
   "outputs": [
    {
     "data": {
      "image/png": "[encoded data removed]",
      "text/plain": [
       "<Figure size 800x600 with 1 Axes>"
      ]
     },
     "metadata": {},
     "output_type": "display_data"
    }
   ],
   "source": [
    "\n",
    "y_scores = clf.decision_function(X_test)\n",
    "ap_scores = {\n",
    "    label: average_precision_score(y_test.iloc[:, i], y_scores[:, i])\n",
    "    for i, label in enumerate(target_columns)\n",
    "}\n",
    "sorted_labels = sorted(target_columns, key=lambda l: ap_scores[l])\n",
    "\n",
    "\n",
    "plt.figure(figsize=(8, 6))\n",
    "\n",
    "for label in sorted_labels:\n",
    "    i = target_columns.index(label)\n",
    "    precision, recall, _ = precision_recall_curve(y_test.iloc[:, i], y_scores[:, i])\n",
    "    ap = ap_scores[label]\n",
    "    plt.plot(recall, precision, label=f\"{label} (AP={ap:.2f})\")\n",
    "\n",
    "\n",
    "plt.xlabel(\"Recall\")\n",
    "plt.ylabel(\"Precision\")\n",
    "plt.title(\"Precision–Recall Curves (sorted by AP)\")\n",
    "plt.legend(loc=\"lower left\", fontsize=\"small\", frameon=False)\n",
    "plt.tight_layout()\n",
    "plt.show()\n"
   ]
  },
  {
   "cell_type": "code",
   "execution_count": 70,
   "metadata": {},
   "outputs": [
    {
     "name": "stderr",
     "output_type": "stream",
     "text": [
      "c:\\Users\\Yarid\\AppData\\Local\\Programs\\Python\\Python310\\lib\\site-packages\\sklearn\\metrics\\_classification.py:1565: UndefinedMetricWarning: Precision is ill-defined and being set to 0.0 in samples with no predicted labels. Use `zero_division` parameter to control this behavior.\n",
      "  _warn_prf(average, modifier, f\"{metric.capitalize()} is\", len(result))\n",
      "c:\\Users\\Yarid\\AppData\\Local\\Programs\\Python\\Python310\\lib\\site-packages\\sklearn\\metrics\\_classification.py:1565: UndefinedMetricWarning: Recall is ill-defined and being set to 0.0 in samples with no true labels. Use `zero_division` parameter to control this behavior.\n",
      "  _warn_prf(average, modifier, f\"{metric.capitalize()} is\", len(result))\n",
      "c:\\Users\\Yarid\\AppData\\Local\\Programs\\Python\\Python310\\lib\\site-packages\\sklearn\\metrics\\_classification.py:1565: UndefinedMetricWarning: F-score is ill-defined and being set to 0.0 in samples with no true nor predicted labels. Use `zero_division` parameter to control this behavior.\n",
      "  _warn_prf(average, modifier, f\"{metric.capitalize()} is\", len(result))\n"
     ]
    },
    {
     "data": {
      "image/png": "[encoded data removed]",
      "text/plain": [
       "<Figure size 1000x500 with 1 Axes>"
      ]
     },
     "metadata": {},
     "output_type": "display_data"
    }
   ],
   "source": [
    "\n",
    "# 1) Predict on the test set\n",
    "y_pred = clf.predict(X_test)\n",
    "\n",
    "\n",
    "report = classification_report(\n",
    "    y_test, \n",
    "    y_pred, \n",
    "    target_names=target_columns, \n",
    "    output_dict=True\n",
    ")\n",
    "\n",
    "\n",
    "df_report = pd.DataFrame(report).T.loc[target_columns, ['precision','recall','f1-score']]\n",
    "\n",
    "\n",
    "ax = df_report.plot.bar(\n",
    "    figsize=(10,5),\n",
    "    rot=0,\n",
    "    ylim=(0,1)\n",
    ")\n",
    "ax.set_title(\"Per‐Class Precision / Recall / F1\")\n",
    "ax.set_ylabel(\"Score\")\n",
    "plt.legend(title=\"Metric\", loc=\"upper right\")\n",
    "plt.tight_layout()\n",
    "plt.show()\n"
   ]
  },
  {
   "cell_type": "code",
   "execution_count": 71,
   "metadata": {},
   "outputs": [
    {
     "data": {
      "image/png": "[encoded data removed]",
      "text/plain": [
       "<Figure size 600x400 with 1 Axes>"
      ]
     },
     "metadata": {},
     "output_type": "display_data"
    }
   ],
   "source": [
    "\n",
    "test_metrics = {\n",
    "    'Accuracy':  results['test_accuracy'],\n",
    "    'Precision': results['test_precision'],\n",
    "    'Recall':    results['test_recall'],\n",
    "    'F1':        results['test_f1']\n",
    "}\n",
    "\n",
    "\n",
    "plt.figure(figsize=(6,4))\n",
    "bars = plt.bar(test_metrics.keys(), test_metrics.values(), edgecolor='k')\n",
    "plt.ylim(0,1)\n",
    "plt.title(\"Overall Test‐Set Performance\")\n",
    "plt.ylabel(\"Score\")\n",
    "\n",
    "for bar in bars:\n",
    "    h = bar.get_height()\n",
    "    plt.text(bar.get_x() + bar.get_width()/2, h + 0.02, f\"{h:.2f}\", \n",
    "             ha='center', va='bottom')\n",
    "\n",
    "plt.tight_layout()\n",
    "plt.show()\n"
   ]
  },
  {
   "cell_type": "code",
   "execution_count": 109,
   "metadata": {},
   "outputs": [],
   "source": [
    "\n",
    "X_all = np.vstack(df['bert_embedding'])\n",
    "\n",
    "# Predict if toxic or not \n",
    "df['predicted'] = clf.predict(X_all)[:, 0]\n",
    "\n",
    "hate_labels = ['toxic', 'severe_toxic', 'obscene', 'threat', 'insult', 'identity_hate']\n",
    "\n",
    "toxic_rates = {}\n",
    "for label in hate_labels:\n",
    "    group = df[df[label] == 1]\n",
    "    if len(group) > 0:\n",
    "        toxic_rates[label] = group['predicted'].mean()\n"
   ]
  },
  {
   "cell_type": "code",
   "execution_count": 110,
   "metadata": {},
   "outputs": [
    {
     "data": {
      "image/png": "[encoded data removed]",
      "text/plain": [
       "<Figure size 1000x500 with 1 Axes>"
      ]
     },
     "metadata": {},
     "output_type": "display_data"
    }
   ],
   "source": [
    "plt.figure(figsize=(10, 5))\n",
    "bars = plt.bar(toxic_rates.keys(), toxic_rates.values(), color='darkred')\n",
    "\n",
    "for bar in bars:\n",
    "    height = bar.get_height()\n",
    "    plt.text(bar.get_x() + bar.get_width()/2, height + 0.01,\n",
    "             f\"{height:.2f}\", ha='center', va='bottom', fontsize=10)\n",
    "\n",
    "plt.ylim(0, 1)\n",
    "plt.ylabel(\"Predicted Toxic Rate\")\n",
    "plt.title(\"Toxic Prediction Rate by Comment Type\")\n",
    "plt.xticks(rotation=15)\n",
    "plt.grid(axis='y', linestyle='--', alpha=0.5)\n",
    "plt.tight_layout()\n",
    "plt.show()"
   ]
  }
 ],
 "metadata": {
  "kernelspec": {
   "display_name": "Python 3",
   "language": "python",
   "name": "python3"
  },
  "language_info": {
   "codemirror_mode": {
    "name": "ipython",
    "version": 3
   },
   "file_extension": ".py",
   "mimetype": "text/x-python",
   "name": "python",
   "nbconvert_exporter": "python",
   "pygments_lexer": "ipython3",
   "version": "3.10.0"
  }
 },
 "nbformat": 4,
 "nbformat_minor": 2
}
